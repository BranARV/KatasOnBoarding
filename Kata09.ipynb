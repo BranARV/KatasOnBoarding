{
 "cells": [
  {
   "cell_type": "markdown",
   "metadata": {},
   "source": [
    "# Ejercicio: Uso de funciones en Python"
   ]
  },
  {
   "cell_type": "markdown",
   "metadata": {},
   "source": [
    "### Ejercicio 1: Trabajar con argumentos en funciones\n",
    "\n",
    "Los argumentos requeridos en las funciones se utilizan cuando las funciones necesitan que esos argumentos funcionen correctamente. En este ejercicio, construirás un informe de combustible que requiere información de varias ubicaciones de combustible en todo el cohete.\n",
    "\n",
    "Comienza por crear una función que necesite tres lecturas de combustible y devuelva un informe:"
   ]
  },
  {
   "cell_type": "code",
   "execution_count": 1,
   "metadata": {},
   "outputs": [],
   "source": [
    "def informe (tanquePrincipal, tanqueSecundario,tanqueEmergencia):\n",
    "    promedio = (tanquePrincipal+tanqueSecundario+tanqueEmergencia)/3\n",
    "    if promedio < 25:\n",
    "        aviso = '\\nEmergencia deberías llenar el tanque'\n",
    "    else:\n",
    "        aviso = ''\n",
    "    return f\"\"\"Reporte Gasolina:\n",
    "    Promedio: {promedio}%\n",
    "    Tanque Princpial: {tanquePrincipal}%\n",
    "    Tanque Secundario: {tanqueSecundario}%\n",
    "    Tanque Emeregncia: {tanqueEmergencia}%\n",
    "    \"\"\" + aviso"
   ]
  },
  {
   "cell_type": "markdown",
   "metadata": {},
   "source": [
    "Ahora que hemos definido la función de informes, vamos a comprobarlo. Para esta misión, los tanques no están llenos:"
   ]
  },
  {
   "cell_type": "code",
   "execution_count": 3,
   "metadata": {},
   "outputs": [
    {
     "name": "stdout",
     "output_type": "stream",
     "text": [
      "Reporte Gasolina:\n",
      "    Promedio: 40.0%\n",
      "    Tanque Princpial: 30%\n",
      "    Tanque Secundario: 35%\n",
      "    Tanque Emeregncia: 55%\n",
      "    \n"
     ]
    }
   ],
   "source": [
    "print(informe(30,35,55))"
   ]
  },
  {
   "cell_type": "markdown",
   "metadata": {},
   "source": [
    "En lugar de simplemente crear el informe, la función también está calculando el promedio. Mejora la legibilidad extrayendo el cálculo promedio de la función en una nueva función para que el promedio se pueda hacer de forma independiente:"
   ]
  },
  {
   "cell_type": "code",
   "execution_count": 5,
   "metadata": {},
   "outputs": [
    {
     "data": {
      "text/plain": [
       "10.0"
      ]
     },
     "execution_count": 5,
     "metadata": {},
     "output_type": "execute_result"
    }
   ],
   "source": [
    "def promedio(valores):\n",
    "    total = sum(valores)\n",
    "    return total/len(valores)\n",
    "\n",
    "promedio([5,10,15])"
   ]
  },
  {
   "cell_type": "code",
   "execution_count": 12,
   "metadata": {},
   "outputs": [
    {
     "name": "stdout",
     "output_type": "stream",
     "text": [
      "Reporte Gasolina:\n",
      "    Promedio: 15.0%\n",
      "    Tanque Princpial: 10%\n",
      "    Tanque Secundario: 15%\n",
      "    Tanque Emeregncia: 20%\n",
      "    \n"
     ]
    }
   ],
   "source": [
    "def informe (tanquePrincipal, tanqueSecundario,tanqueEmergencia):\n",
    "    return f\"\"\"Reporte Gasolina:\n",
    "    Promedio: {promedio([tanquePrincipal,tanqueSecundario,tanqueEmergencia])}%\n",
    "    Tanque Princpial: {tanquePrincipal}%\n",
    "    Tanque Secundario: {tanqueSecundario}%\n",
    "    Tanque Emeregncia: {tanqueEmergencia}%\n",
    "    \"\"\"\n",
    "\n",
    "print(informe(10, 15, 20))"
   ]
  },
  {
   "cell_type": "markdown",
   "metadata": {},
   "source": [
    "## Ejercicio 2: Trabajo con argumentos de palabra clave"
   ]
  },
  {
   "cell_type": "markdown",
   "metadata": {},
   "source": [
    "### Ejercicio : Trabajar con argumentos de palabras clave en funciones\n",
    "En este ejercicio, construirás un informe de cohete que requiere varias piezas de información, como el tiempo hasta el destino, el combustible a la izquierda y el nombre del destino. Comienza por crear una función que creará un informe preciso de la misión:"
   ]
  },
  {
   "cell_type": "code",
   "execution_count": 13,
   "metadata": {},
   "outputs": [
    {
     "name": "stdout",
     "output_type": "stream",
     "text": [
      "\n",
      "    Misión a Marte\n",
      "    Tiempo de viaje 3600 minutos\n",
      "    Combustible: 33.333333333333336 litros\n",
      "    \n"
     ]
    }
   ],
   "source": [
    "def informe_cohete(tiempo_destino, destino, valores):\n",
    "    return f\"\"\"\n",
    "    Misión a {destino}\n",
    "    Tiempo de viaje {tiempo_destino} minutos\n",
    "    Combustible: {promedio(valores)} litros\n",
    "    \"\"\"\n",
    "\n",
    "print (informe_cohete(3600,\"Marte\",[20,30,50]))"
   ]
  },
  {
   "cell_type": "markdown",
   "metadata": {},
   "source": [
    "La función es problemática porque no se puede adaptar para minutos adicionales o tanques adicionales de combustible. Hazlo más flexible permitiendo cualquier número de pasos basados en el tiempo y cualquier número de tanques. En lugar de usar `*args` y `**kwargs`, aprovecha el hecho de que puedes usar cualquier nombre que desees. Asegurate que la función sea más legible mediante el uso de nombres de variables que están asociados con las entradas, como `*minutes` y `**fuel_reservoirs`:"
   ]
  },
  {
   "cell_type": "code",
   "execution_count": 15,
   "metadata": {},
   "outputs": [
    {
     "name": "stdout",
     "output_type": "stream",
     "text": [
      "\n",
      "    Misión a Marte\n",
      "    Tiempo de viaje 3670 minutos\n",
      "    Combustible: 33.333333333333336 litros\n",
      "    \n"
     ]
    }
   ],
   "source": [
    "def informe_cohete(destino, valores,*tiempo):\n",
    "    return f\"\"\"\n",
    "    Misión a {destino}\n",
    "    Tiempo de viaje {sum(tiempo)} minutos\n",
    "    Combustible: {promedio(valores)} litros\n",
    "    \"\"\"\n",
    "\n",
    "print (informe_cohete(\"Marte\",[20,30,50],3600,20,50,))"
   ]
  },
  {
   "cell_type": "markdown",
   "metadata": {},
   "source": [
    "Debido a que el combustible que queda en los tanques es específico de cada tanque, actualiza la función para usar el nombre de cada tanque en el informe:"
   ]
  },
  {
   "cell_type": "code",
   "execution_count": 21,
   "metadata": {},
   "outputs": [
    {
     "name": "stdout",
     "output_type": "stream",
     "text": [
      "\n",
      "    Misión a Marte\n",
      "    Tiempo de viaje 3670 minutos\n",
      "    Combustible: 2500.0 litros\n",
      "    Tanque principal con 3000 [LT]\n",
      "Tanque secundario con 2000 [LT]\n",
      "\n"
     ]
    }
   ],
   "source": [
    "def informe_cohete(destino,*tiempo,**tanques):\n",
    "    reporte = f\"\"\"\n",
    "    Misión a {destino}\n",
    "    Tiempo de viaje {sum(tiempo)} minutos\n",
    "    Combustible: {(sum(tanques.values()))/len(tanques.values())} litros\n",
    "    \"\"\"\n",
    "    for nombre, litros in tanques.items():\n",
    "        reporte = reporte + f\"Tanque {nombre} con {litros} [LT]\\n\"\n",
    "    return reporte\n",
    "\n",
    "print (informe_cohete(\"Marte\",3600,20,50,principal=3000, secundario=2000))"
   ]
  }
 ],
 "metadata": {
  "interpreter": {
   "hash": "6471048379f9f80da439034127cc85113978738a1b3bf9194b36c3ae6755d0d7"
  },
  "kernelspec": {
   "display_name": "Python 3.10.2 64-bit",
   "language": "python",
   "name": "python3"
  },
  "language_info": {
   "codemirror_mode": {
    "name": "ipython",
    "version": 3
   },
   "file_extension": ".py",
   "mimetype": "text/x-python",
   "name": "python",
   "nbconvert_exporter": "python",
   "pygments_lexer": "ipython3",
   "version": "3.10.2"
  },
  "orig_nbformat": 4
 },
 "nbformat": 4,
 "nbformat_minor": 2
}
